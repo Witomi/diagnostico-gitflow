{
 "cells": [
  {
   "cell_type": "code",
   "execution_count": 31,
   "metadata": {},
   "outputs": [],
   "source": [
    "import json\n",
    "import pandas as pd\n",
    "import re\n",
    "from collections import Counter\n",
    "from  itertools import chain\n",
    "        \n",
    "def main(numero_funcion):\n",
    "    with open('../farmers-protest-tweets-2021-03-5.json','r') as f:\n",
    "        data = pd.read_json(f,lines=True)\n",
    "    if numero_funcion == 1:\n",
    "        return funcion1(data)\n",
    "    if numero_funcion == 2:\n",
    "        return funcion2(data)\n",
    "    if numero_funcion == 3:\n",
    "        return funcion3(data)\n",
    "    if numero_funcion == 4:\n",
    "        return funcion4(data)\n",
    "\n",
    "def funcion1(data):\n",
    "    info = data.sort_values('retweetCount')[['url','retweetCount']]\n",
    "    return info.tail(10)\n",
    "\n",
    "def funcion2(data):\n",
    "    data = data['user'].apply(pd.Series).sort_values('statusesCount')[['username','statusesCount']]\n",
    "    info = data[['username','statusesCount']]\n",
    "    return info.tail(10)\n",
    "\n",
    "def funcion3(data):\n",
    "    data['date'] = pd.to_datetime(data['date']).dt.tz_localize(None).dt.strftime('%Y-%m-%d')\n",
    "    data2 = pd.DataFrame()\n",
    "    data2['freq_count'] = data['date'].value_counts()\n",
    "    info = data2.sort_values('freq_count')\n",
    "    return info.tail(10)\n",
    "\n",
    "def funcion4(data):\n",
    "    data2 = pd.DataFrame(columns=['hashtags'])\n",
    "    data2['hashtags'] = data.apply(lambda x: re.findall(\"[a-zA-Z]*#[a-zA-Z]*\",x.content), axis=1)\n",
    "    info = pd.Series(Counter(chain.from_iterable(data2['hashtags']))).sort_values(ascending=True)\n",
    "    return info.tail(10)"
   ]
  },
  {
   "cell_type": "code",
   "execution_count": 31,
   "metadata": {
    "scrolled": true
   },
   "outputs": [
    {
     "name": "stdout",
     "output_type": "stream",
     "text": [
      "                                                      url  retweetCount\n",
      "163689  https://twitter.com/AmandaCerny/status/1359013...         15677\n",
      "325261  https://twitter.com/kylekuzma/status/135700972...         17368\n",
      "398011  https://twitter.com/vanessa_vash/status/135668...         18744\n",
      "215034  https://twitter.com/BobBlackman/status/1357755...         20132\n",
      "314192  https://twitter.com/TeamJuJu/status/1357048037...         23251\n",
      "372793  https://twitter.com/miakhalifa/status/13568277...         26972\n",
      "366579  https://twitter.com/miakhalifa/status/13568483...         35921\n",
      "266196  https://twitter.com/GretaThunberg/status/13572...         67694\n",
      "395142  https://twitter.com/GretaThunberg/status/13566...        103957\n",
      "408128  https://twitter.com/rihanna/status/13566258896...        315547\n"
     ]
    }
   ],
   "source": [
    "print(main(1))"
   ]
  },
  {
   "cell_type": "code",
   "execution_count": 32,
   "metadata": {},
   "outputs": [
    {
     "name": "stdout",
     "output_type": "stream",
     "text": [
      "               username  statusesCount\n",
      "272660  GeorgekurianINC        1711890\n",
      "314242  GeorgekurianINC        1711890\n",
      "99741   threadreaderapp        1762327\n",
      "258818  threadreaderapp        1762399\n",
      "271054  threadreaderapp        1762402\n",
      "261941  threadreaderapp        1762402\n",
      "300353  threadreaderapp        1762417\n",
      "377326  threadreaderapp        1762450\n",
      "386636  threadreaderapp        1762451\n",
      "408649  threadreaderapp        1762461\n"
     ]
    }
   ],
   "source": [
    "print(main(2))"
   ]
  },
  {
   "cell_type": "code",
   "execution_count": 30,
   "metadata": {},
   "outputs": [
    {
     "name": "stdout",
     "output_type": "stream",
     "text": [
      "            freq_count\n",
      "2021-02-11        5698\n",
      "2021-02-10        7973\n",
      "2021-02-08        8920\n",
      "2021-02-09        9320\n",
      "2021-02-07       11325\n",
      "2021-02-06       22420\n",
      "2021-02-02       28548\n",
      "2021-02-05       33332\n",
      "2021-02-04       58607\n",
      "2021-02-03       83866\n"
     ]
    }
   ],
   "source": [
    "print(main(3))"
   ]
  },
  {
   "cell_type": "code",
   "execution_count": 25,
   "metadata": {},
   "outputs": [
    {
     "name": "stdout",
     "output_type": "stream",
     "text": [
      "#Farmers                       8372\n",
      "#FarmersProtests               8824\n",
      "#Rihanna                       9118\n",
      "#StandWithFarmers             10644\n",
      "#FarmersAreIndia              11042\n",
      "#IndianFarmersHumanRights     12015\n",
      "#farmersprotest               15473\n",
      "#IStandWithFarmers            15781\n",
      "#                             29695\n",
      "#FarmersProtest              408900\n",
      "dtype: int64\n"
     ]
    }
   ],
   "source": [
    "print(main(4))"
   ]
  }
 ],
 "metadata": {
  "kernelspec": {
   "display_name": "Python 3",
   "language": "python",
   "name": "python3"
  },
  "language_info": {
   "codemirror_mode": {
    "name": "ipython",
    "version": 3
   },
   "file_extension": ".py",
   "mimetype": "text/x-python",
   "name": "python",
   "nbconvert_exporter": "python",
   "pygments_lexer": "ipython3",
   "version": "3.8.5"
  }
 },
 "nbformat": 4,
 "nbformat_minor": 4
}
