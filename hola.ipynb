{
 "cells": [
  {
   "cell_type": "code",
   "execution_count": 30,
   "metadata": {},
   "outputs": [],
   "source": [
    "import json\n",
    "import re\n",
    "import pandas as pd\n",
    "        \n",
    "def main(numero_funcion):\n",
    "    with open('../farmers-protest-tweets-2021-03-5.json','r') as f:\n",
    "        data = pd.read_json(f,lines=True)\n",
    "    if numero_funcion == 1:\n",
    "        return funcion1(data)\n",
    "\n",
    "def funcion1(data):\n",
    "    info = data.sort_values('retweetCount')[['url','retweetCount']]\n",
    "    return info.tail(10)\n"
   ]
  },
  {
   "cell_type": "code",
   "execution_count": 31,
   "metadata": {},
   "outputs": [
    {
     "name": "stdout",
     "output_type": "stream",
     "text": [
      "                                                      url  retweetCount\n",
      "163689  https://twitter.com/AmandaCerny/status/1359013...         15677\n",
      "325261  https://twitter.com/kylekuzma/status/135700972...         17368\n",
      "398011  https://twitter.com/vanessa_vash/status/135668...         18744\n",
      "215034  https://twitter.com/BobBlackman/status/1357755...         20132\n",
      "314192  https://twitter.com/TeamJuJu/status/1357048037...         23251\n",
      "372793  https://twitter.com/miakhalifa/status/13568277...         26972\n",
      "366579  https://twitter.com/miakhalifa/status/13568483...         35921\n",
      "266196  https://twitter.com/GretaThunberg/status/13572...         67694\n",
      "395142  https://twitter.com/GretaThunberg/status/13566...        103957\n",
      "408128  https://twitter.com/rihanna/status/13566258896...        315547\n"
     ]
    }
   ],
   "source": [
    "print(main(1))"
   ]
  }
 ],
 "metadata": {
  "kernelspec": {
   "display_name": "Python 3",
   "language": "python",
   "name": "python3"
  },
  "language_info": {
   "codemirror_mode": {
    "name": "ipython",
    "version": 3
   },
   "file_extension": ".py",
   "mimetype": "text/x-python",
   "name": "python",
   "nbconvert_exporter": "python",
   "pygments_lexer": "ipython3",
   "version": "3.8.5"
  }
 },
 "nbformat": 4,
 "nbformat_minor": 4
}
